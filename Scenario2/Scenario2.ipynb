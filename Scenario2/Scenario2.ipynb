{
  "nbformat": 4,
  "nbformat_minor": 0,
  "metadata": {
    "colab": {
      "provenance": []
    },
    "kernelspec": {
      "name": "python3",
      "display_name": "Python 3"
    },
    "language_info": {
      "name": "python"
    }
  },
  "cells": [
    {
      "cell_type": "code",
      "execution_count": null,
      "metadata": {
        "colab": {
          "base_uri": "https://localhost:8080/"
        },
        "id": "97bmo3K_zkHK",
        "outputId": "0190a2ad-4bf9-4f38-a32f-969f1c875847"
      },
      "outputs": [
        {
          "output_type": "stream",
          "name": "stdout",
          "text": [
            "Combined JSON file has been saved to /content/combined_data.json\n"
          ]
        }
      ],
      "source": [
        "import json\n",
        "import os\n",
        "\n",
        "# Define the file paths\n",
        "json_files = [\n",
        "    \"/content/Pos_0.png.json\",\n",
        "    \"/content/Pos_10010.png.json\",\n",
        "    \"/content/Pos_10492.png.json\"\n",
        "]\n",
        "\n",
        "# Define a function to change class names\n",
        "def update_class_names(obj):\n",
        "    if obj['classTitle'] == \"Vehicle\":\n",
        "        obj['classTitle'] = \"car\"\n",
        "    elif obj['classTitle'] == \"License Plate\":\n",
        "        obj['classTitle'] = \"number\"\n",
        "    return obj\n",
        "\n",
        "# Initialize a dictionary to combine all data\n",
        "combined_data = {\n",
        "    \"description\": \"\",\n",
        "    \"tags\": [],\n",
        "    \"size\": {\n",
        "        \"height\": 720,\n",
        "        \"width\": 1280\n",
        "    },\n",
        "    \"objects\": []\n",
        "}\n",
        "\n",
        "# Loop over each file, load the data and update class names\n",
        "for file in json_files:\n",
        "    if os.path.exists(file):\n",
        "        with open(file, 'r') as f:\n",
        "            data = json.load(f)\n",
        "            # Process objects and change class names\n",
        "            if 'objects' in data:\n",
        "                for obj in data['objects']:\n",
        "                    updated_obj = update_class_names(obj)\n",
        "                    combined_data['objects'].append(updated_obj)\n",
        "\n",
        "# Save the combined data into a new JSON file\n",
        "output_file = \"/content/combined_data.json\"\n",
        "with open(output_file, 'w') as f:\n",
        "    json.dump(combined_data, f, indent=4)\n",
        "\n",
        "print(f\"Combined JSON file has been saved to {output_file}\")"
      ]
    }
  ]
}